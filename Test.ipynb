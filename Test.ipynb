{
 "cells": [
  {
   "cell_type": "code",
   "execution_count": 7,
   "id": "ba3f554a-02c9-46f1-8283-4b73c6173106",
   "metadata": {
    "tags": []
   },
   "outputs": [],
   "source": [
    "import matplotlib.pyplot as plt\n",
    "from netCDF4 import Dataset\n",
    "import numpy as np\n",
    "from scipy.ndimage import gaussian_filter\n",
    "import matplotlib\n",
    "import matplotlib.pyplot as plt"
   ]
  },
  {
   "cell_type": "code",
   "execution_count": 2,
   "id": "9ac86a56-2631-4f34-a5df-6fed6e30d859",
   "metadata": {},
   "outputs": [],
   "source": [
    "import sys\n",
    "sys.path.append('/meddy/lwang/tools/Modules')"
   ]
  },
  {
   "cell_type": "code",
   "execution_count": 4,
   "id": "7beb5c4d-a76a-47e8-8b78-48a3a591e952",
   "metadata": {},
   "outputs": [],
   "source": [
    "from R_files import load"
   ]
  },
  {
   "cell_type": "code",
   "execution_count": 6,
   "id": "d9b9ad18-3a18-49df-9a0e-34c9292adfa3",
   "metadata": {},
   "outputs": [],
   "source": [
    "import R_vars as va\n",
    "import R_tools as tools"
   ]
  },
  {
   "cell_type": "code",
   "execution_count": null,
   "id": "1374848e-0f33-4bce-83d0-ee83417ab07c",
   "metadata": {},
   "outputs": [],
   "source": []
  },
  {
   "cell_type": "code",
   "execution_count": null,
   "id": "dd830605-3ff3-485f-ba8e-d438926b8c77",
   "metadata": {},
   "outputs": [],
   "source": []
  },
  {
   "cell_type": "code",
   "execution_count": 1,
   "id": "1a6638e9-a82b-44c3-a64a-f8171570317f",
   "metadata": {},
   "outputs": [],
   "source": [
    "\n",
    "from mpl_toolkits.basemap import Basemap\n",
    "import sysa\n",
    "import cmocean\n",
    "import xarray as xr\n",
    "import xroms\n",
    "import glob\n",
    "import os\n",
    "import datetime\n",
    "import numpy as np\n",
    "import dateutil"
   ]
  },
  {
   "cell_type": "code",
   "execution_count": null,
   "id": "39db8e0e-921b-4c69-bc05-c95c4ccbf811",
   "metadata": {},
   "outputs": [],
   "source": []
  },
  {
   "cell_type": "code",
   "execution_count": null,
   "id": "c8574cb9-ed07-4b89-a345-dc822c348921",
   "metadata": {},
   "outputs": [],
   "source": []
  }
 ],
 "metadata": {
  "kernelspec": {
   "display_name": "pyti",
   "language": "python",
   "name": "pyti"
  },
  "language_info": {
   "codemirror_mode": {
    "name": "ipython",
    "version": 3
   },
   "file_extension": ".py",
   "mimetype": "text/x-python",
   "name": "python",
   "nbconvert_exporter": "python",
   "pygments_lexer": "ipython3",
   "version": "3.7.12"
  }
 },
 "nbformat": 4,
 "nbformat_minor": 5
}
